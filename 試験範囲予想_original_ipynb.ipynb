{
  "nbformat": 4,
  "nbformat_minor": 0,
  "metadata": {
    "colab": {
      "name": "試験範囲予想_original.ipynb のコピー",
      "provenance": [],
      "collapsed_sections": []
    },
    "kernelspec": {
      "name": "python3",
      "display_name": "Python 3"
    },
    "language_info": {
      "name": "python",
      "version": "3.8.8-final"
    }
  },
  "cells": [
    {
      "cell_type": "code",
      "execution_count": 1,
      "metadata": {
        "id": "7jvTiHvCf3U4"
      },
      "outputs": [],
      "source": [
        "import torch\n",
        "import torch.nn as nn\n",
        "import torch.optim as optim\n",
        "import torch.utils.data as data\n",
        "import torchvision\n",
        "from torchvision import models, transforms\n",
        "\n",
        "#下準備（科目が変わらなければ一度実行すればOK）\n",
        "\n",
        "subject_list = [\"上皮\",\"筋\",\"神経\",\"骨軟骨\",\"血液\",\"胃\",\"肺\",\"腸\",\"肝膵臓\",\"歯心臓大動脈\",\"下垂体副腎\",\"口唇舌唾液腺\",\"男性生殖器\",\"女性生殖器\",\"眼\",\"皮膚\",\"脾臓リンパ\",\"腎\"]\n",
        "subject_dict = {}\n",
        "i = 0\n",
        "for subject in subject_list:\n",
        "  subject_dict[subject] = i\n",
        "  i += 1\n"
      ]
    },
    {
      "cell_type": "code",
      "source": [
        "subject_dict"
      ],
      "metadata": {
        "colab": {
          "base_uri": "https://localhost:8080/"
        },
        "id": "hP87z-ydu5fb",
        "outputId": "401ab0ad-3539-4543-b9ee-4be39022b10b"
      },
      "execution_count": 2,
      "outputs": [
        {
          "output_type": "execute_result",
          "data": {
            "text/plain": [
              "{'上皮': 0,\n",
              " '筋': 1,\n",
              " '神経': 2,\n",
              " '骨軟骨': 3,\n",
              " '血液': 4,\n",
              " '胃': 5,\n",
              " '肺': 6,\n",
              " '腸': 7,\n",
              " '肝膵臓': 8,\n",
              " '歯心臓大動脈': 9,\n",
              " '下垂体副腎': 10,\n",
              " '口唇舌唾液腺': 11,\n",
              " '男性生殖器': 12,\n",
              " '女性生殖器': 13,\n",
              " '眼': 14,\n",
              " '皮膚': 15,\n",
              " '脾臓リンパ': 16,\n",
              " '腎': 17}"
            ]
          },
          "metadata": {},
          "execution_count": 2
        }
      ]
    },
    {
      "cell_type": "code",
      "source": [
        "#one_hot化へ\n",
        "\n",
        "#a：本試験 b：追試験\n",
        "test_dict = {\n",
        "    \"a_2011\":[\"筋\",\"神経\",\"肺\",\"歯心臓大動脈\"],\n",
        "    \"a_2012\":[\"上皮\",\"筋\",\"神経\",\"腸\",\"肝膵臓\",\"下垂体副腎\",\"女性生殖器\",\"皮膚\"],\n",
        "    \"b_2012\":[\"上皮\",\"筋\",\"神経\",\"腸\",\"肝膵臓\",\"下垂体副腎\",\"男性生殖器\",\"眼\"],\n",
        "    \"a_2013\":[\"上皮\",\"筋\",\"神経\",\"骨軟骨\",\"肺\",\"肝膵臓\"],\n",
        "    \"b_2013\":[\"上皮\",\"筋\",\"神経\",\"腸\",\"肝膵臓\",\"下垂体副腎\",\"男性生殖器\",\"眼\"],\n",
        "    \"a_2014\":[\"上皮\",\"神経\",\"歯心臓大動脈\",\"下垂体副腎\",\"腎\"],\n",
        "    \"b_2014\":[\"筋\",\"神経\",\"骨軟骨\",\"腸\",\"口唇舌唾液腺\",\"皮膚\"],\n",
        "    \"a_2015\":[\"神経\",\"腸\",\"下垂体副腎\",\"眼\",\"腎\"],\n",
        "    \"b_2015\":[\"上皮\",\"神経\",\"腸\",\"肝膵臓\",\"下垂体副腎\",\"腎\"],\n",
        "    \"a_2016\":[\"神経\",\"骨軟骨\",\"血液\",\"胃\"],\n",
        "    \"b_2016\":[\"神経\",\"肺\",\"腸\"],\n",
        "    \"a_2017\":[\"神経\",\"肺\",\"眼\"],\n",
        "    \"b_2017\":[\"上皮\",\"筋\",\"神経\",\"下垂体副腎\",\"腎\"],\n",
        "    \"a_2018\":[\"神経\",\"骨軟骨\",\"女性生殖器\",\"脾臓リンパ\"],\n",
        "    \"b_2018\":[\"神経\",\"骨軟骨\",\"女性生殖器\",\"脾臓リンパ\",\"腎\"],\n",
        "    \"a_2019\":[\"神経\",\"肺\",\"腸\",\"口唇舌唾液腺\",\"女性生殖器\",\"脾臓リンパ\",\"腎\"],\n",
        "    \"b_2019\":[\"筋\",\"神経\",\"胃\",\"歯心臓大動脈\",\"口唇舌唾液腺\",\"眼\",\"脾臓リンパ\",\"腎\"],\n",
        "    \"a_2020\":[\"神経\",\"肺\",\"肝膵臓\",\"下垂体副腎\",\"皮膚\",\"腎\"],\n",
        "    \"b_2020\":[\"神経\",\"血液\",\"肺\",\"腸\",\"下垂体副腎\",\"眼\",\"皮膚\"],\n",
        "    \"a_2021\":[\"神経\",\"肺\",\"眼\"]\n",
        "}\n",
        "\n",
        "# input_list = {}\n",
        "test_list = [\"a\",\"b\"]\n",
        "\n",
        "input_list = []\n",
        "\n",
        "for year in range(2012,2021):\n",
        "  for character in test_list:\n",
        "    print(character)\n",
        "    input_list.append(f\"{character}_{year}\")\n",
        "\n",
        "print(input_list)\n",
        "\n",
        "input_list.append(\"a_2021\")\n",
        "input_list.append(\"a_2011\")\n",
        "\n",
        "print(input_list)\n",
        "\n",
        "test_years = []\n",
        "test_per_year = []\n",
        "test_per_year_onehot = []\n",
        "inputs = []\n",
        "\n",
        "for year in input_list: #a_2014\n",
        "\n",
        "  print(year)\n",
        "\n",
        "  test_per_year.append(test_dict[year]) #[\"肺\", ...] (len=17)\n",
        "\n",
        "  print(test_per_year)\n",
        "\n",
        "  for test in test_per_year[0]: #[\"肺\"]\n",
        "\n",
        "    print(test)\n",
        "\n",
        "    print(subject_dict[test])\n",
        "\n",
        "    test_per_year_onehot.append(subject_dict[test]) #[0]\n",
        "  \n",
        "  inputs.append(test_per_year_onehot)\n",
        "\n",
        "  test_per_year = []\n",
        "\n",
        "  test_per_year_onehot = []\n"
      ],
      "metadata": {
        "id": "PSaSCvG5geyz"
      },
      "execution_count": 3,
      "outputs": [
        {
          "output_type": "stream",
          "name": "stdout",
          "text": [
            "a\nb\na\nb\na\nb\na\nb\na\nb\na\nb\na\nb\na\nb\na\nb\n['a_2012', 'b_2012', 'a_2013', 'b_2013', 'a_2014', 'b_2014', 'a_2015', 'b_2015', 'a_2016', 'b_2016', 'a_2017', 'b_2017', 'a_2018', 'b_2018', 'a_2019', 'b_2019', 'a_2020', 'b_2020']\n['a_2012', 'b_2012', 'a_2013', 'b_2013', 'a_2014', 'b_2014', 'a_2015', 'b_2015', 'a_2016', 'b_2016', 'a_2017', 'b_2017', 'a_2018', 'b_2018', 'a_2019', 'b_2019', 'a_2020', 'b_2020', 'a_2021', 'a_2011']\na_2012\n[['上皮', '筋', '神経', '腸', '肝膵臓', '下垂体副腎', '女性生殖器', '皮膚']]\n上皮\n0\n筋\n1\n神経\n2\n腸\n7\n肝膵臓\n8\n下垂体副腎\n10\n女性生殖器\n13\n皮膚\n15\nb_2012\n[['上皮', '筋', '神経', '腸', '肝膵臓', '下垂体副腎', '男性生殖器', '眼']]\n上皮\n0\n筋\n1\n神経\n2\n腸\n7\n肝膵臓\n8\n下垂体副腎\n10\n男性生殖器\n12\n眼\n14\na_2013\n[['上皮', '筋', '神経', '骨軟骨', '肺', '肝膵臓']]\n上皮\n0\n筋\n1\n神経\n2\n骨軟骨\n3\n肺\n6\n肝膵臓\n8\nb_2013\n[['上皮', '筋', '神経', '腸', '肝膵臓', '下垂体副腎', '男性生殖器', '眼']]\n上皮\n0\n筋\n1\n神経\n2\n腸\n7\n肝膵臓\n8\n下垂体副腎\n10\n男性生殖器\n12\n眼\n14\na_2014\n[['上皮', '神経', '歯心臓大動脈', '下垂体副腎', '腎']]\n上皮\n0\n神経\n2\n歯心臓大動脈\n9\n下垂体副腎\n10\n腎\n17\nb_2014\n[['筋', '神経', '骨軟骨', '腸', '口唇舌唾液腺', '皮膚']]\n筋\n1\n神経\n2\n骨軟骨\n3\n腸\n7\n口唇舌唾液腺\n11\n皮膚\n15\na_2015\n[['神経', '腸', '下垂体副腎', '眼', '腎']]\n神経\n2\n腸\n7\n下垂体副腎\n10\n眼\n14\n腎\n17\nb_2015\n[['上皮', '神経', '腸', '肝膵臓', '下垂体副腎', '腎']]\n上皮\n0\n神経\n2\n腸\n7\n肝膵臓\n8\n下垂体副腎\n10\n腎\n17\na_2016\n[['神経', '骨軟骨', '血液', '胃']]\n神経\n2\n骨軟骨\n3\n血液\n4\n胃\n5\nb_2016\n[['神経', '肺', '腸']]\n神経\n2\n肺\n6\n腸\n7\na_2017\n[['神経', '肺', '眼']]\n神経\n2\n肺\n6\n眼\n14\nb_2017\n[['上皮', '筋', '神経', '下垂体副腎', '腎']]\n上皮\n0\n筋\n1\n神経\n2\n下垂体副腎\n10\n腎\n17\na_2018\n[['神経', '骨軟骨', '女性生殖器', '脾臓リンパ']]\n神経\n2\n骨軟骨\n3\n女性生殖器\n13\n脾臓リンパ\n16\nb_2018\n[['神経', '骨軟骨', '女性生殖器', '脾臓リンパ', '腎']]\n神経\n2\n骨軟骨\n3\n女性生殖器\n13\n脾臓リンパ\n16\n腎\n17\na_2019\n[['神経', '肺', '腸', '口唇舌唾液腺', '女性生殖器', '脾臓リンパ', '腎']]\n神経\n2\n肺\n6\n腸\n7\n口唇舌唾液腺\n11\n女性生殖器\n13\n脾臓リンパ\n16\n腎\n17\nb_2019\n[['筋', '神経', '胃', '歯心臓大動脈', '口唇舌唾液腺', '眼', '脾臓リンパ', '腎']]\n筋\n1\n神経\n2\n胃\n5\n歯心臓大動脈\n9\n口唇舌唾液腺\n11\n眼\n14\n脾臓リンパ\n16\n腎\n17\na_2020\n[['神経', '肺', '肝膵臓', '下垂体副腎', '皮膚', '腎']]\n神経\n2\n肺\n6\n肝膵臓\n8\n下垂体副腎\n10\n皮膚\n15\n腎\n17\nb_2020\n[['神経', '血液', '肺', '腸', '下垂体副腎', '眼', '皮膚']]\n神経\n2\n血液\n4\n肺\n6\n腸\n7\n下垂体副腎\n10\n眼\n14\n皮膚\n15\na_2021\n[['神経', '肺', '眼']]\n神経\n2\n肺\n6\n眼\n14\na_2011\n[['筋', '神経', '肺', '歯心臓大動脈']]\n筋\n1\n神経\n2\n肺\n6\n歯心臓大動脈\n9\n"
          ]
        }
      ]
    },
    {
      "cell_type": "code",
      "source": [
        "inputs"
      ],
      "metadata": {
        "colab": {
          "base_uri": "https://localhost:8080/"
        },
        "id": "-M5SWuGUxxhy",
        "outputId": "dd49dd87-bd62-4880-a153-d2537bd52ace"
      },
      "execution_count": 4,
      "outputs": [
        {
          "output_type": "execute_result",
          "data": {
            "text/plain": [
              "[[0, 1, 2, 7, 8, 10, 13, 15],\n",
              " [0, 1, 2, 7, 8, 10, 12, 14],\n",
              " [0, 1, 2, 3, 6, 8],\n",
              " [0, 1, 2, 7, 8, 10, 12, 14],\n",
              " [0, 2, 9, 10, 17],\n",
              " [1, 2, 3, 7, 11, 15],\n",
              " [2, 7, 10, 14, 17],\n",
              " [0, 2, 7, 8, 10, 17],\n",
              " [2, 3, 4, 5],\n",
              " [2, 6, 7],\n",
              " [2, 6, 14],\n",
              " [0, 1, 2, 10, 17],\n",
              " [2, 3, 13, 16],\n",
              " [2, 3, 13, 16, 17],\n",
              " [2, 6, 7, 11, 13, 16, 17],\n",
              " [1, 2, 5, 9, 11, 14, 16, 17],\n",
              " [2, 6, 8, 10, 15, 17],\n",
              " [2, 4, 6, 7, 10, 14, 15],\n",
              " [2, 6, 14],\n",
              " [1, 2, 6, 9]]"
            ]
          },
          "metadata": {},
          "execution_count": 4
        }
      ]
    },
    {
      "cell_type": "code",
      "source": [
        "onehot_inputs = []\n",
        "\n",
        "for tensor in inputs:\n",
        "\n",
        "  onehot_year = []\n",
        "\n",
        "  for num in range(len(subject_list)):\n",
        "\n",
        "    if num in tensor:\n",
        "\n",
        "      onehot_year.append(1)\n",
        "    \n",
        "    else:\n",
        "\n",
        "      onehot_year.append(0)\n",
        "  \n",
        "  onehot_inputs.append(onehot_year)"
      ],
      "metadata": {
        "id": "GfCAtMZ1zkdd"
      },
      "execution_count": null,
      "outputs": []
    },
    {
      "cell_type": "code",
      "source": [
        "#onehot化したinputは古い順に並んでいます\n",
        "\n",
        "#onehot_inputs = torch.tensor(onehot_inputs)\n",
        "print(onehot_inputs)\n",
        "print(len(onehot_inputs))"
      ],
      "metadata": {
        "colab": {
          "base_uri": "https://localhost:8080/"
        },
        "id": "44Sbh0jU0gb0",
        "outputId": "077b4e35-6f1e-4937-c167-7c5ddbdd49fe"
      },
      "execution_count": null,
      "outputs": [
        {
          "output_type": "stream",
          "name": "stdout",
          "text": [
            "[[1, 1, 1, 0, 0, 0, 0, 1, 1, 0, 1, 0, 0, 1, 0, 1, 0, 0], [1, 1, 1, 0, 0, 0, 0, 1, 1, 0, 1, 0, 1, 0, 1, 0, 0, 0], [1, 1, 1, 1, 0, 0, 1, 0, 1, 0, 0, 0, 0, 0, 0, 0, 0, 0], [1, 1, 1, 0, 0, 0, 0, 1, 1, 0, 1, 0, 1, 0, 1, 0, 0, 0], [1, 0, 1, 0, 0, 0, 0, 0, 0, 1, 1, 0, 0, 0, 0, 0, 0, 1], [0, 1, 1, 1, 0, 0, 0, 1, 0, 0, 0, 1, 0, 0, 0, 1, 0, 0], [0, 0, 1, 0, 0, 0, 0, 1, 0, 0, 1, 0, 0, 0, 1, 0, 0, 1], [1, 0, 1, 0, 0, 0, 0, 1, 1, 0, 1, 0, 0, 0, 0, 0, 0, 1], [0, 0, 1, 1, 1, 1, 0, 0, 0, 0, 0, 0, 0, 0, 0, 0, 0, 0], [0, 0, 1, 0, 0, 0, 1, 1, 0, 0, 0, 0, 0, 0, 0, 0, 0, 0], [0, 0, 1, 0, 0, 0, 1, 0, 0, 0, 0, 0, 0, 0, 1, 0, 0, 0], [1, 1, 1, 0, 0, 0, 0, 0, 0, 0, 1, 0, 0, 0, 0, 0, 0, 1], [0, 0, 1, 1, 0, 0, 0, 0, 0, 0, 0, 0, 0, 1, 0, 0, 1, 0], [0, 0, 1, 1, 0, 0, 0, 0, 0, 0, 0, 0, 0, 1, 0, 0, 1, 1], [0, 0, 1, 0, 0, 0, 1, 1, 0, 0, 0, 1, 0, 1, 0, 0, 1, 1], [0, 1, 1, 0, 0, 1, 0, 0, 0, 1, 0, 1, 0, 0, 1, 0, 1, 1], [0, 0, 1, 0, 0, 0, 1, 0, 1, 0, 1, 0, 0, 0, 0, 1, 0, 1], [0, 0, 1, 0, 1, 0, 1, 1, 0, 0, 1, 0, 0, 0, 1, 1, 0, 0], [0, 0, 1, 0, 0, 0, 1, 0, 0, 0, 0, 0, 0, 0, 1, 0, 0, 0], [0, 1, 1, 0, 0, 0, 1, 0, 0, 1, 0, 0, 0, 0, 0, 0, 0, 0]]\n",
            "20\n"
          ]
        }
      ]
    },
    {
      "cell_type": "code",
      "source": [
        "#訓練dataと正解dataのセット\n",
        "#4回分で1回を予測する\n",
        "\n",
        "input_set = []\n",
        "real_set = []\n",
        "\n",
        "val_input_set = []\n",
        "val_real_set = []\n",
        "\n",
        "prediction_input = []\n",
        "\n",
        "\n",
        "#0~19\n",
        "for i in range(0,len(onehot_inputs)-5): #0~17\n",
        "  input_set_3years = []\n",
        "  input_set_3years.append(onehot_inputs[i])\n",
        "  input_set_3years.append(onehot_inputs[i+1])\n",
        "  input_set_3years.append(onehot_inputs[i+2]) #max19(2019_b)\n",
        "\n",
        "  input_set.append(input_set_3years)\n",
        "  real_set.append(onehot_inputs[i+3])\n",
        "\n",
        "for i in range(14,17): #14~16\n",
        "  val_input_3years = []\n",
        "  val_input_3years.append(onehot_inputs[i])\n",
        "  val_input_3years.append(onehot_inputs[i+1])\n",
        "  val_input_3years.append(onehot_inputs[i+2])\n",
        "\n",
        "  val_input_set.append(val_input_3years)\n",
        "  val_real_set.append(onehot_inputs[i+3])\n",
        "\n",
        "prediction_input.append(onehot_inputs[len(onehot_inputs)-3])\n",
        "prediction_input.append(onehot_inputs[len(onehot_inputs)-2])\n",
        "prediction_input.append(onehot_inputs[len(onehot_inputs)-1])"
      ],
      "metadata": {
        "id": "3TSB25YDVY4l"
      },
      "execution_count": null,
      "outputs": []
    },
    {
      "cell_type": "code",
      "source": [
        "#listをtensorにする\n",
        "input_set = torch.tensor(input_set)\n",
        "real_set = torch.tensor(real_set)\n",
        "\n",
        "val_input_set = torch.tensor(val_input_set)\n",
        "val_real_set = torch.tensor(val_real_set)\n",
        "\n",
        "prediction_input = torch.tensor(prediction_input)\n",
        "\n",
        "print(input_set)\n",
        "print(real_set)\n",
        "\n",
        "print(input_set.shape)\n",
        "print(real_set.shape)\n",
        "\n",
        "#pytorchモデルで扱えるようにfloat型にしておく\n",
        "input_set = input_set.float()\n",
        "real_set = real_set.float()\n",
        "\n",
        "val_input_set = val_input_set.float()\n",
        "val_real_set = val_real_set.float()\n",
        "\n",
        "prediction_input = prediction_input.float()"
      ],
      "metadata": {
        "colab": {
          "base_uri": "https://localhost:8080/"
        },
        "id": "Hmc5-ZXMZCjT",
        "outputId": "6ff592b7-ba92-465c-c9f1-0fde01206f7c"
      },
      "execution_count": null,
      "outputs": [
        {
          "output_type": "stream",
          "name": "stdout",
          "text": [
            "tensor([[[1, 1, 1, 0, 0, 0, 0, 1, 1, 0, 1, 0, 0, 1, 0, 1, 0, 0],\n",
            "         [1, 1, 1, 0, 0, 0, 0, 1, 1, 0, 1, 0, 1, 0, 1, 0, 0, 0],\n",
            "         [1, 1, 1, 1, 0, 0, 1, 0, 1, 0, 0, 0, 0, 0, 0, 0, 0, 0]],\n",
            "\n",
            "        [[1, 1, 1, 0, 0, 0, 0, 1, 1, 0, 1, 0, 1, 0, 1, 0, 0, 0],\n",
            "         [1, 1, 1, 1, 0, 0, 1, 0, 1, 0, 0, 0, 0, 0, 0, 0, 0, 0],\n",
            "         [1, 1, 1, 0, 0, 0, 0, 1, 1, 0, 1, 0, 1, 0, 1, 0, 0, 0]],\n",
            "\n",
            "        [[1, 1, 1, 1, 0, 0, 1, 0, 1, 0, 0, 0, 0, 0, 0, 0, 0, 0],\n",
            "         [1, 1, 1, 0, 0, 0, 0, 1, 1, 0, 1, 0, 1, 0, 1, 0, 0, 0],\n",
            "         [1, 0, 1, 0, 0, 0, 0, 0, 0, 1, 1, 0, 0, 0, 0, 0, 0, 1]],\n",
            "\n",
            "        [[1, 1, 1, 0, 0, 0, 0, 1, 1, 0, 1, 0, 1, 0, 1, 0, 0, 0],\n",
            "         [1, 0, 1, 0, 0, 0, 0, 0, 0, 1, 1, 0, 0, 0, 0, 0, 0, 1],\n",
            "         [0, 1, 1, 1, 0, 0, 0, 1, 0, 0, 0, 1, 0, 0, 0, 1, 0, 0]],\n",
            "\n",
            "        [[1, 0, 1, 0, 0, 0, 0, 0, 0, 1, 1, 0, 0, 0, 0, 0, 0, 1],\n",
            "         [0, 1, 1, 1, 0, 0, 0, 1, 0, 0, 0, 1, 0, 0, 0, 1, 0, 0],\n",
            "         [0, 0, 1, 0, 0, 0, 0, 1, 0, 0, 1, 0, 0, 0, 1, 0, 0, 1]],\n",
            "\n",
            "        [[0, 1, 1, 1, 0, 0, 0, 1, 0, 0, 0, 1, 0, 0, 0, 1, 0, 0],\n",
            "         [0, 0, 1, 0, 0, 0, 0, 1, 0, 0, 1, 0, 0, 0, 1, 0, 0, 1],\n",
            "         [1, 0, 1, 0, 0, 0, 0, 1, 1, 0, 1, 0, 0, 0, 0, 0, 0, 1]],\n",
            "\n",
            "        [[0, 0, 1, 0, 0, 0, 0, 1, 0, 0, 1, 0, 0, 0, 1, 0, 0, 1],\n",
            "         [1, 0, 1, 0, 0, 0, 0, 1, 1, 0, 1, 0, 0, 0, 0, 0, 0, 1],\n",
            "         [0, 0, 1, 1, 1, 1, 0, 0, 0, 0, 0, 0, 0, 0, 0, 0, 0, 0]],\n",
            "\n",
            "        [[1, 0, 1, 0, 0, 0, 0, 1, 1, 0, 1, 0, 0, 0, 0, 0, 0, 1],\n",
            "         [0, 0, 1, 1, 1, 1, 0, 0, 0, 0, 0, 0, 0, 0, 0, 0, 0, 0],\n",
            "         [0, 0, 1, 0, 0, 0, 1, 1, 0, 0, 0, 0, 0, 0, 0, 0, 0, 0]],\n",
            "\n",
            "        [[0, 0, 1, 1, 1, 1, 0, 0, 0, 0, 0, 0, 0, 0, 0, 0, 0, 0],\n",
            "         [0, 0, 1, 0, 0, 0, 1, 1, 0, 0, 0, 0, 0, 0, 0, 0, 0, 0],\n",
            "         [0, 0, 1, 0, 0, 0, 1, 0, 0, 0, 0, 0, 0, 0, 1, 0, 0, 0]],\n",
            "\n",
            "        [[0, 0, 1, 0, 0, 0, 1, 1, 0, 0, 0, 0, 0, 0, 0, 0, 0, 0],\n",
            "         [0, 0, 1, 0, 0, 0, 1, 0, 0, 0, 0, 0, 0, 0, 1, 0, 0, 0],\n",
            "         [1, 1, 1, 0, 0, 0, 0, 0, 0, 0, 1, 0, 0, 0, 0, 0, 0, 1]],\n",
            "\n",
            "        [[0, 0, 1, 0, 0, 0, 1, 0, 0, 0, 0, 0, 0, 0, 1, 0, 0, 0],\n",
            "         [1, 1, 1, 0, 0, 0, 0, 0, 0, 0, 1, 0, 0, 0, 0, 0, 0, 1],\n",
            "         [0, 0, 1, 1, 0, 0, 0, 0, 0, 0, 0, 0, 0, 1, 0, 0, 1, 0]],\n",
            "\n",
            "        [[1, 1, 1, 0, 0, 0, 0, 0, 0, 0, 1, 0, 0, 0, 0, 0, 0, 1],\n",
            "         [0, 0, 1, 1, 0, 0, 0, 0, 0, 0, 0, 0, 0, 1, 0, 0, 1, 0],\n",
            "         [0, 0, 1, 1, 0, 0, 0, 0, 0, 0, 0, 0, 0, 1, 0, 0, 1, 1]],\n",
            "\n",
            "        [[0, 0, 1, 1, 0, 0, 0, 0, 0, 0, 0, 0, 0, 1, 0, 0, 1, 0],\n",
            "         [0, 0, 1, 1, 0, 0, 0, 0, 0, 0, 0, 0, 0, 1, 0, 0, 1, 1],\n",
            "         [0, 0, 1, 0, 0, 0, 1, 1, 0, 0, 0, 1, 0, 1, 0, 0, 1, 1]],\n",
            "\n",
            "        [[0, 0, 1, 1, 0, 0, 0, 0, 0, 0, 0, 0, 0, 1, 0, 0, 1, 1],\n",
            "         [0, 0, 1, 0, 0, 0, 1, 1, 0, 0, 0, 1, 0, 1, 0, 0, 1, 1],\n",
            "         [0, 1, 1, 0, 0, 1, 0, 0, 0, 1, 0, 1, 0, 0, 1, 0, 1, 1]],\n",
            "\n",
            "        [[0, 0, 1, 0, 0, 0, 1, 1, 0, 0, 0, 1, 0, 1, 0, 0, 1, 1],\n",
            "         [0, 1, 1, 0, 0, 1, 0, 0, 0, 1, 0, 1, 0, 0, 1, 0, 1, 1],\n",
            "         [0, 0, 1, 0, 0, 0, 1, 0, 1, 0, 1, 0, 0, 0, 0, 1, 0, 1]]])\n",
            "tensor([[1, 1, 1, 0, 0, 0, 0, 1, 1, 0, 1, 0, 1, 0, 1, 0, 0, 0],\n",
            "        [1, 0, 1, 0, 0, 0, 0, 0, 0, 1, 1, 0, 0, 0, 0, 0, 0, 1],\n",
            "        [0, 1, 1, 1, 0, 0, 0, 1, 0, 0, 0, 1, 0, 0, 0, 1, 0, 0],\n",
            "        [0, 0, 1, 0, 0, 0, 0, 1, 0, 0, 1, 0, 0, 0, 1, 0, 0, 1],\n",
            "        [1, 0, 1, 0, 0, 0, 0, 1, 1, 0, 1, 0, 0, 0, 0, 0, 0, 1],\n",
            "        [0, 0, 1, 1, 1, 1, 0, 0, 0, 0, 0, 0, 0, 0, 0, 0, 0, 0],\n",
            "        [0, 0, 1, 0, 0, 0, 1, 1, 0, 0, 0, 0, 0, 0, 0, 0, 0, 0],\n",
            "        [0, 0, 1, 0, 0, 0, 1, 0, 0, 0, 0, 0, 0, 0, 1, 0, 0, 0],\n",
            "        [1, 1, 1, 0, 0, 0, 0, 0, 0, 0, 1, 0, 0, 0, 0, 0, 0, 1],\n",
            "        [0, 0, 1, 1, 0, 0, 0, 0, 0, 0, 0, 0, 0, 1, 0, 0, 1, 0],\n",
            "        [0, 0, 1, 1, 0, 0, 0, 0, 0, 0, 0, 0, 0, 1, 0, 0, 1, 1],\n",
            "        [0, 0, 1, 0, 0, 0, 1, 1, 0, 0, 0, 1, 0, 1, 0, 0, 1, 1],\n",
            "        [0, 1, 1, 0, 0, 1, 0, 0, 0, 1, 0, 1, 0, 0, 1, 0, 1, 1],\n",
            "        [0, 0, 1, 0, 0, 0, 1, 0, 1, 0, 1, 0, 0, 0, 0, 1, 0, 1],\n",
            "        [0, 0, 1, 0, 1, 0, 1, 1, 0, 0, 1, 0, 0, 0, 1, 1, 0, 0]])\n",
            "torch.Size([15, 3, 18])\n",
            "torch.Size([15, 18])\n"
          ]
        }
      ]
    },
    {
      "cell_type": "code",
      "source": [
        "len(input_set) #2=data数\n",
        "len(input_set[0]) #3=sequence\n",
        "len(input_set[0][0]) #16=feature_size"
      ],
      "metadata": {
        "colab": {
          "base_uri": "https://localhost:8080/"
        },
        "id": "riVZr3JLjQqe",
        "outputId": "e47f534e-6942-4fc0-e396-c12aff60db44"
      },
      "execution_count": null,
      "outputs": [
        {
          "output_type": "execute_result",
          "data": {
            "text/plain": [
              "18"
            ]
          },
          "metadata": {},
          "execution_count": 390
        }
      ]
    },
    {
      "cell_type": "code",
      "source": [
        "for input_data, real_data in zip(input_set, real_set):\n",
        "  print(input_data[2])"
      ],
      "metadata": {
        "colab": {
          "base_uri": "https://localhost:8080/"
        },
        "id": "ny-PkJZDmoGW",
        "outputId": "4a1048c5-400d-49a8-cf7a-8b255c452c89"
      },
      "execution_count": null,
      "outputs": [
        {
          "output_type": "stream",
          "name": "stdout",
          "text": [
            "tensor([1., 1., 1., 1., 0., 0., 1., 0., 1., 0., 0., 0., 0., 0., 0., 0., 0., 0.])\n",
            "tensor([1., 1., 1., 0., 0., 0., 0., 1., 1., 0., 1., 0., 1., 0., 1., 0., 0., 0.])\n",
            "tensor([1., 0., 1., 0., 0., 0., 0., 0., 0., 1., 1., 0., 0., 0., 0., 0., 0., 1.])\n",
            "tensor([0., 1., 1., 1., 0., 0., 0., 1., 0., 0., 0., 1., 0., 0., 0., 1., 0., 0.])\n",
            "tensor([0., 0., 1., 0., 0., 0., 0., 1., 0., 0., 1., 0., 0., 0., 1., 0., 0., 1.])\n",
            "tensor([1., 0., 1., 0., 0., 0., 0., 1., 1., 0., 1., 0., 0., 0., 0., 0., 0., 1.])\n",
            "tensor([0., 0., 1., 1., 1., 1., 0., 0., 0., 0., 0., 0., 0., 0., 0., 0., 0., 0.])\n",
            "tensor([0., 0., 1., 0., 0., 0., 1., 1., 0., 0., 0., 0., 0., 0., 0., 0., 0., 0.])\n",
            "tensor([0., 0., 1., 0., 0., 0., 1., 0., 0., 0., 0., 0., 0., 0., 1., 0., 0., 0.])\n",
            "tensor([1., 1., 1., 0., 0., 0., 0., 0., 0., 0., 1., 0., 0., 0., 0., 0., 0., 1.])\n",
            "tensor([0., 0., 1., 1., 0., 0., 0., 0., 0., 0., 0., 0., 0., 1., 0., 0., 1., 0.])\n",
            "tensor([0., 0., 1., 1., 0., 0., 0., 0., 0., 0., 0., 0., 0., 1., 0., 0., 1., 1.])\n",
            "tensor([0., 0., 1., 0., 0., 0., 1., 1., 0., 0., 0., 1., 0., 1., 0., 0., 1., 1.])\n",
            "tensor([0., 1., 1., 0., 0., 1., 0., 0., 0., 1., 0., 1., 0., 0., 1., 0., 1., 1.])\n",
            "tensor([0., 0., 1., 0., 0., 0., 1., 0., 1., 0., 1., 0., 0., 0., 0., 1., 0., 1.])\n"
          ]
        }
      ]
    },
    {
      "cell_type": "code",
      "source": [
        "print(prediction_input)"
      ],
      "metadata": {
        "colab": {
          "base_uri": "https://localhost:8080/"
        },
        "id": "ZXO7oGr8Dp89",
        "outputId": "d1140fd1-9451-4a64-f90b-b0df47d4e791"
      },
      "execution_count": null,
      "outputs": [
        {
          "output_type": "stream",
          "name": "stdout",
          "text": [
            "tensor([[0., 0., 1., 0., 1., 0., 1., 1., 0., 0., 1., 0., 0., 0., 1., 1., 0., 0.],\n",
            "        [0., 0., 1., 0., 0., 0., 1., 0., 0., 0., 0., 0., 0., 0., 1., 0., 0., 0.],\n",
            "        [0., 1., 1., 0., 0., 0., 1., 0., 0., 1., 0., 0., 0., 0., 0., 0., 0., 0.]])\n"
          ]
        }
      ]
    },
    {
      "cell_type": "code",
      "source": [
        "#model\n",
        "#入力→LSTM→隠れ層→FC→sigmoid??cross entropy??\n",
        "import torch.nn.functional as F\n",
        "\n",
        "\n",
        "class Net(nn.Module):\n",
        "\n",
        "    def __init__(self):\n",
        "        \n",
        "        super(Net, self).__init__()\n",
        "        self.seq_len = 3             #時系列の長さ\n",
        "        self.feature_size = 18         #一つ当たりのinputのsize\n",
        "        self.hidden_layer_size = 128   # 隠れ層のサイズ\n",
        "        self.lstm_layers = 1           # LSTMのレイヤー数　(LSTMを何層重ねるか)\n",
        "        \n",
        "        self.lstm = nn.LSTM(self.feature_size, \n",
        "                            self.hidden_layer_size, \n",
        "                            num_layers = self.lstm_layers)\n",
        "        \n",
        "        self.fc = nn.Linear(self.hidden_layer_size, 18)\n",
        "        \n",
        "    def init_hidden_cell(self, batch_size): # LSTMの隠れ層 hidden と記憶セル cell を初期化\n",
        "        hedden = torch.zeros(self.lstm_layers, batch_size, self.hidden_layer_size)\n",
        "        cell = torch.zeros(self.lstm_layers, batch_size, self.hidden_layer_size)        \n",
        "        return (hedden, cell)\n",
        "\n",
        "    def forward(self, x):\n",
        "        batch_size = 1\n",
        "        \n",
        "        self.hidden_cell = self.init_hidden_cell(batch_size)\n",
        "\n",
        "        x = x.view(batch_size, self.seq_len, self.feature_size)  # (Batch, Cannel, Height, Width) -> (Batch, Height, Width) = (Batch, Seqence, Feature)\n",
        "                                                                # 画像の Height を時系列のSequenceに、Width を特徴量の次元としてLSTMに入力する\n",
        "        x = x.permute(1, 0, 2)                                   # (Batch, Seqence, Feature) -> (Seqence , Batch, Feature)\n",
        "        \n",
        "        lstm_out, (h_n, c_n) = self.lstm(x, self.hidden_cell)    # LSTMの入力データのShapeは(Seqence, Batch, Feature)\n",
        "                                                                 # (h_n) のShapeは (num_layers, batch, hidden_size)\n",
        "        x = h_n[-1,:,:]                                          # lstm_layersの最後のレイヤーを取り出す  (B, h)\n",
        "        x = self.fc(x)\n",
        "\n",
        "        #x = F.softmax(x, dim=1)\n",
        "        \n",
        "        return x"
      ],
      "metadata": {
        "id": "EbMcwQVph3ri"
      },
      "execution_count": null,
      "outputs": []
    },
    {
      "cell_type": "code",
      "source": [
        "#train func\n",
        "import time\n",
        "\n",
        "def train_model(model, input_set, output_set, num_epochs, lr, loss_epoch_list, loss_list, loss_dict):\n",
        "\n",
        "    #GPU使えるか確認\n",
        "    #device = torch.device('cuda:0' if torch.cuda.is_available() else 'cpu')\n",
        "    #print('使用デバイス：', device)\n",
        "\n",
        "    #損失関数\n",
        "    criterion = nn.MSELoss()\n",
        "\n",
        "    mini_batch_size = 1\n",
        "\n",
        "    #model.to(device)\n",
        "\n",
        "    #train mode\n",
        "\n",
        "    torch.backends.cudnn.benchmark = True\n",
        "\n",
        "    # num_train_imgs = len(dataloader.dataset)\n",
        "    # print(num_train_imgs)\n",
        "    # batch_size = dataloader.batch_size\n",
        "\n",
        "    #最適化手法\n",
        "    #optimizer = optim.SGD(model.parameters(), lr=1e-4, momentum=0.9)\n",
        "    optimizer = torch.optim.Adam(model.parameters(), lr=lr, weight_decay=0)\n",
        "    optimizer.zero_grad()\n",
        "\n",
        "    #表示\n",
        "    #input_list = []\n",
        "    output_list = []\n",
        "    phase_list = [\"train\",\"eval\"]\n",
        "\n",
        "    for epoch in range(num_epochs):\n",
        "\n",
        "        #開始時刻の保存\n",
        "        t_epoch_start = time.time()\n",
        "        epoch_loss = 0.0\n",
        "\n",
        "        print('-------------------')\n",
        "        print('Epoch {}/{}'.format(epoch, num_epochs))\n",
        "        print('-------------------')\n",
        "        \n",
        "\n",
        "        for phase in phase_list:\n",
        "\n",
        "            print(f'{phase}')\n",
        "\n",
        "            if phase == \"train\":\n",
        "              model.train()\n",
        "\n",
        "            else:\n",
        "              model.eval()\n",
        "\n",
        "            for input_data, real_data in zip(input_set, real_set):\n",
        "            \n",
        "                #input_data = input_data.to(device)\n",
        "\n",
        "                #print('input image:',images.shape)\n",
        "\n",
        "                # print(input_data.shape)\n",
        "                # print(len(input_data))\n",
        "                # print(len(input_data[0]))\n",
        "\n",
        "                #print(input_data)\n",
        "\n",
        "                outputs = model(input_data)#.to(device)\n",
        "\n",
        "                #from IPython.core.debugger import Pdb; Pdb().set_trace()    \n",
        "\n",
        "                #print(input_data.shape, \"/\", outputs.shape)\n",
        "\n",
        "\n",
        "              \n",
        "                # 誤差を計算\n",
        "                loss = 0.0\n",
        "\n",
        "                #print(\"inputs:\",input_data[0])\n",
        "\n",
        "                #print(\"outputs:\",outputs[0])\n",
        "\n",
        "                '''\n",
        "                for i in range(len(input_data[0])):\n",
        "                  # print(outputs[0][i])\n",
        "                  # print(real_data[i])\n",
        "\n",
        "                  if outputs[0][i]-real_data[i] >= 0:\n",
        "\n",
        "                    loss += (outputs[0][i]-real_data[i])**2\n",
        "                  \n",
        "                  else:\n",
        "\n",
        "                    loss += (outputs[0][i]-real_data[i])**2*2\n",
        "\n",
        "                  #loss += (outputs[0][i]-real_data[i])**2/2\n",
        "                  #print(\"loss:\",loss)\n",
        "\n",
        "                loss = loss/len(real_data)\n",
        "                print(\"mean loss:\",loss)\n",
        "                '''\n",
        "\n",
        "                loss = criterion(outputs, real_data)\n",
        "                #print(loss)\n",
        "                #print(loss)\n",
        "\n",
        "                #loss.requires_grad = True\n",
        "\n",
        "                #逆伝播\n",
        "                loss.backward()\n",
        "                #stepってなんだ？\n",
        "                optimizer.step()\n",
        "\n",
        "                loss_epoch_list.append(loss)\n",
        "\n",
        "                #print(images.shape)\n",
        "                #print(outputs.shape)\n",
        "\n",
        "                output_list.append(outputs)\n",
        "                \n",
        "\n",
        "                #print(\"one input done\")\n",
        "\n",
        "            #------------\n",
        "            #3.記録\n",
        "            #------------\n",
        "\n",
        "            loss_dict[phase].append(torch.mean(torch.stack(loss_epoch_list)))\n",
        "            print(f\"{phase}\",torch.mean(torch.stack(loss_epoch_list)))\n",
        "            \n",
        "\n",
        "            t_epoch_finish = time.time()\n",
        "            print('---------------')\n",
        "            print('epoch{} || Epoch_loss:{:.4f}'.format(\n",
        "                epoch, torch.mean(torch.stack(loss_epoch_list))))\n",
        "\n",
        "            print('timer: {:.4f} sec.'.format(t_epoch_finish - t_epoch_start))\n",
        "            t_epoch_start = time.time()\n",
        "\n",
        "            loss_epoch_list = []\n",
        "\n",
        "            #epoch毎の画像表示\n",
        "            #torchvision.utils.make_gridはlistで渡す場合はbatchの次元消さないといけないっぽい\n",
        "            # input_images = torchvision.utils.make_grid(input_list,nrow=5,)\n",
        "            # output_images = torchvision.utils.make_grid(output_list)\n",
        "\n",
        "            # input_images = input_images.detach().cpu().numpy()\n",
        "            # output_images = output_images.detach().cpu().numpy()\n",
        "\n",
        "            # plt.imshow(input_images.transpose(1,2,0))\n",
        "            # plt.show()\n",
        "\n",
        "            # plt.imshow(output_images.transpose(1,2,0))\n",
        "            # plt.show()\n",
        "\n",
        "            #input_list = []\n",
        "            #output_list = []\n",
        "\n",
        "        # weight_path = '/content/drive/MyDrive/自分用/BMI/BMI_weight'\n",
        "\n",
        "        # torch.save(model.state_dict(), weight_path + \"/weight_batch_1.pth\")\n",
        "        # print(\"model was saved as:\", weight_path + \"/weight_batch_1.pth\")\n",
        "\n",
        "        #model.eval()\n",
        "\n",
        "    return model, loss_dict, output_list"
      ],
      "metadata": {
        "id": "U1dE0GOtcOCP"
      },
      "execution_count": null,
      "outputs": []
    },
    {
      "cell_type": "code",
      "source": [
        "#train\n",
        "model = Net()\n",
        "\n",
        "loss_dict = {\"train\":[], \"eval\":[]}\n",
        "\n",
        "loss_list = []\n",
        "loss_epoch_list = []\n",
        "\n",
        "num_epoch1 = 5\n",
        "\n",
        "num_epoch2 = 10\n",
        "\n",
        "num_epoch3 = 20\n",
        "\n",
        "epoch_list = [num_epoch1, num_epoch2, num_epoch3]\n",
        "\n",
        "model1, loss_dict1, output_list1 = train_model(model, input_set, real_set, 1000, 1e-4, loss_epoch_list, loss_list, loss_dict)\n",
        "\n",
        "'''\n",
        "model = Net()\n",
        "model2, loss_dict2, output_list2 = train_model(model, input_set, real_set, num_epoch2, 1e-4, loss_epoch_list, loss_list, loss_dict)\n",
        "\n",
        "model = Net()\n",
        "model3, loss_dict3, output_list3 = train_model(model, input_set, real_set, num_epoch3, 1e-4, loss_epoch_list, loss_list, loss_dict)\n",
        "'''"
      ],
      "metadata": {
        "id": "pXtDfnKvh2Ul"
      },
      "execution_count": null,
      "outputs": []
    },
    {
      "cell_type": "code",
      "source": [
        "#train/val plot\n",
        "import matplotlib.pyplot as plt\n",
        "\n",
        "plt.xlabel(\"epoch\")\n",
        "plt.ylabel(\"loss\")\n",
        "plt.plot(loss_dict[\"train\"], label=\"training\")\n",
        "plt.plot(loss_dict[\"eval\"], label=\"validation\")\n",
        "plt.legend()\n",
        "plt.show()"
      ],
      "metadata": {
        "colab": {
          "base_uri": "https://localhost:8080/",
          "height": 279
        },
        "id": "63p5sH9S0HOS",
        "outputId": "468b3cc3-47a3-43af-b2ad-03a69c7ace0a"
      },
      "execution_count": null,
      "outputs": [
        {
          "output_type": "display_data",
          "data": {
            "image/png": "[encoded data removed]",
            "text/plain": [
              "<Figure size 432x288 with 1 Axes>"
            ]
          },
          "metadata": {
            "needs_background": "light"
          }
        }
      ]
    },
    {
      "cell_type": "code",
      "source": [
        "prediction_list = model1(prediction_input)\n",
        "print(prediction_list)"
      ],
      "metadata": {
        "colab": {
          "base_uri": "https://localhost:8080/"
        },
        "id": "IlezzZffq5_x",
        "outputId": "c6d15d57-c357-48e4-dac5-5be852d7873c"
      },
      "execution_count": null,
      "outputs": [
        {
          "output_type": "stream",
          "name": "stdout",
          "text": [
            "tensor([[ 0.4209, -0.1154, -0.8460, -2.2530, -1.1008,  0.0300,  2.4938, -1.3657,\n",
            "         -1.6435, -2.0108, -1.7159,  0.1454, -1.7976,  0.5547,  2.4140, -1.3899,\n",
            "         -1.9312, -1.7461]], grad_fn=<AddmmBackward0>)\n"
          ]
        }
      ]
    },
    {
      "cell_type": "code",
      "source": [
        "prediction_dict = {}\n",
        "i = 0\n",
        "\n",
        "for subject in subject_list:\n",
        "  prediction_dict[subject] = prediction_list[0][i].item()\n",
        "  i += 1"
      ],
      "metadata": {
        "id": "KIjDcFPhp3BL"
      },
      "execution_count": null,
      "outputs": []
    },
    {
      "cell_type": "code",
      "source": [
        "print(prediction_dict)"
      ],
      "metadata": {
        "colab": {
          "base_uri": "https://localhost:8080/"
        },
        "id": "7ceTJElvqgPd",
        "outputId": "972f6e26-1594-4b0f-bd7f-63193c93fdd4"
      },
      "execution_count": null,
      "outputs": [
        {
          "output_type": "stream",
          "name": "stdout",
          "text": [
            "{'上皮': 0.42089009284973145, '筋': -0.11540299654006958, '神経': -0.84604811668396, '骨軟骨': -2.2529664039611816, '血液': -1.1007792949676514, '胃': 0.03001733124256134, '肺': 2.4937937259674072, '腸': -1.365661859512329, '肝膵臓': -1.6434636116027832, '歯心臓大動脈': -2.0108442306518555, '下垂体副腎': -1.7158606052398682, '口唇舌唾液腺': 0.14539223909378052, '男性生殖器': -1.7976253032684326, '女性生殖器': 0.5546892881393433, '眼': 2.414003372192383, '皮膚': -1.3899492025375366, '脾臓リンパ': -1.931234359741211, '腎': -1.7460711002349854}\n"
          ]
        }
      ]
    },
    {
      "cell_type": "code",
      "source": [
        "prediction_list = prediction_list.detach().numpy()\n",
        "print(prediction_list[0])"
      ],
      "metadata": {
        "colab": {
          "base_uri": "https://localhost:8080/"
        },
        "id": "tHd1vu1b7o_x",
        "outputId": "a65fa414-dfcf-4aae-ed74-ce2d2d18f29d"
      },
      "execution_count": null,
      "outputs": [
        {
          "output_type": "stream",
          "name": "stdout",
          "text": [
            "[ 0.4208901  -0.115403   -0.8460481  -2.2529664  -1.1007793   0.03001733\n",
            "  2.4937937  -1.3656619  -1.6434636  -2.0108442  -1.7158606   0.14539224\n",
            " -1.7976253   0.5546893   2.4140034  -1.3899492  -1.9312344  -1.7460711 ]\n"
          ]
        }
      ]
    },
    {
      "cell_type": "code",
      "source": [
        "subject_list_english = [\"Epithelium\",\"Muscle\",\"Nerve\",\"Bobe\",\"Blood\",\"Stomach\",\"Lung\",\"Intestine\",\"Liver&Panchreas\",\"Teeth&Heart\",\"Pituitary&Adrenal\",\"Salivary gland\",\"Male reproductive\",\"Female reproductive\",\"Eye\",\"Skin\",\"Spleen&Lymph\",\"Kidney\"]\n",
        "\n",
        "plt.plot(list(range(len(prediction_list[0]))),prediction_list[0], label=\"出題される可能性\")\n",
        "plt.xticks(list(range(len(prediction_list[0]))),subject_list_english,rotation=90)\n",
        "\n",
        "# x軸に補助目盛線を設定\n",
        "plt.vlines(list(range(len(prediction_list[0]))), -0.5, 1.5, colors='red', linestyle='dashed', linewidth=1)\n",
        "\n",
        "plt.minorticks_on()\n",
        "plt.grid(which=\"major\", color=\"gray\", linestyle=\"solid\")\n",
        "plt.grid(which=\"minor\", color=\"lightgray\", linestyle=\"dotted\")\n",
        "\n",
        "plt.show()"
      ],
      "metadata": {
        "id": "mYJVOSkZOm5K",
        "colab": {
          "base_uri": "https://localhost:8080/",
          "height": 358
        },
        "outputId": "ae69e6a7-0827-447d-80ce-d57e32252947"
      },
      "execution_count": null,
      "outputs": [
        {
          "output_type": "display_data",
          "data": {
            "image/png": "[encoded data removed]",
            "text/plain": [
              "<Figure size 432x288 with 1 Axes>"
            ]
          },
          "metadata": {
            "needs_background": "light"
          }
        }
      ]
    },
    {
      "cell_type": "code",
      "source": [
        "input_set = input_set.float()\n",
        "net = Net(input_set[0])\n",
        "out = net.forward(input_set[0])"
      ],
      "metadata": {
        "id": "W51-3Qo9i-SR"
      },
      "execution_count": null,
      "outputs": []
    },
    {
      "cell_type": "code",
      "source": [
        "onehot_inputs = onehot_inputs.float()"
      ],
      "metadata": {
        "id": "TL4AL7O3spbq"
      },
      "execution_count": null,
      "outputs": []
    },
    {
      "cell_type": "code",
      "source": [
        "net = Net(onehot_inputs)"
      ],
      "metadata": {
        "id": "JpWJk31pqANQ"
      },
      "execution_count": null,
      "outputs": []
    },
    {
      "cell_type": "code",
      "source": [
        "type(onehot_inputs)"
      ],
      "metadata": {
        "colab": {
          "base_uri": "https://localhost:8080/"
        },
        "id": "PwYvD6LLTi9v",
        "outputId": "e635d10c-bd34-48d7-ac5b-8280da7af870"
      },
      "execution_count": null,
      "outputs": [
        {
          "output_type": "execute_result",
          "data": {
            "text/plain": [
              "torch.Tensor"
            ]
          },
          "metadata": {},
          "execution_count": 87
        }
      ]
    },
    {
      "cell_type": "code",
      "source": [
        "out = net.forward(onehot_inputs)"
      ],
      "metadata": {
        "id": "uVr_7M1kqE8u"
      },
      "execution_count": null,
      "outputs": []
    },
    {
      "cell_type": "code",
      "source": [
        "out"
      ],
      "metadata": {
        "colab": {
          "base_uri": "https://localhost:8080/"
        },
        "id": "7OPZ3ac4rZ_C",
        "outputId": "75c482a9-bbad-45a5-e030-8f163ea69b82"
      },
      "execution_count": null,
      "outputs": [
        {
          "output_type": "execute_result",
          "data": {
            "text/plain": [
              "tensor([[-0.0374, -0.0823, -0.0621,  0.0425, -0.0081,  0.0433, -0.0963,  0.0542,\n",
              "         -0.0531, -0.1054,  0.0243,  0.0034, -0.1007, -0.0059, -0.0999]],\n",
              "       grad_fn=<AddmmBackward0>)"
            ]
          },
          "metadata": {},
          "execution_count": 89
        }
      ]
    },
    {
      "cell_type": "code",
      "source": [
        "subject_tensor = []\n",
        "\n",
        "for subject in subject_set:\n",
        "  subject = torch.tensor(subject)\n",
        "  subject_tensor.append(subject)\n",
        "  print(subject)"
      ],
      "metadata": {
        "colab": {
          "base_uri": "https://localhost:8080/"
        },
        "id": "UaDCNoMNoPAX",
        "outputId": "a53b2daf-af64-4b5d-93ff-b911d8dac47c"
      },
      "execution_count": null,
      "outputs": [
        {
          "output_type": "stream",
          "name": "stdout",
          "text": [
            "tensor([0, 0, 1, 0, 0])\n",
            "tensor([1, 0, 0, 0, 0])\n",
            "tensor([0, 1, 0, 0, 0])\n"
          ]
        }
      ]
    },
    {
      "cell_type": "code",
      "source": [
        "subject_tensor"
      ],
      "metadata": {
        "colab": {
          "base_uri": "https://localhost:8080/"
        },
        "id": "VAtkJ1yspDdv",
        "outputId": "349a4e9b-fbf9-4087-d4ca-7f531c824d81"
      },
      "execution_count": null,
      "outputs": [
        {
          "output_type": "execute_result",
          "data": {
            "text/plain": [
              "[tensor([0, 0, 1, 0, 0]), tensor([1, 0, 0, 0, 0]), tensor([0, 1, 0, 0, 0])]"
            ]
          },
          "metadata": {},
          "execution_count": 44
        }
      ]
    },
    {
      "cell_type": "code",
      "source": [
        "#0/1表現にした方が良さそう\n",
        "eye = [0,0,1,0,0]\n",
        "lung = [1,0,0,0,0]\n",
        "ear = [0,1,0,0,0]\n",
        "\n",
        "subject_dict = \n",
        "\n",
        "subject_set = [eye,lung,ear]\n",
        "subject_character = "
      ],
      "metadata": {
        "id": "pWV4DYlMnUIc"
      },
      "execution_count": null,
      "outputs": []
    },
    {
      "cell_type": "code",
      "source": [
        "eye = subject_tensor[0]\n",
        "len(eye)"
      ],
      "metadata": {
        "colab": {
          "base_uri": "https://localhost:8080/"
        },
        "id": "tUktls7RpyLC",
        "outputId": "dcfb3f1d-a9c4-4f07-cba7-8ba65ba77a82"
      },
      "execution_count": null,
      "outputs": [
        {
          "output_type": "execute_result",
          "data": {
            "text/plain": [
              "5"
            ]
          },
          "metadata": {},
          "execution_count": 53
        }
      ]
    },
    {
      "cell_type": "code",
      "source": [
        "for i in range(3):\n",
        "  subject"
      ],
      "metadata": {
        "id": "8Mdq0CfGpf0Y"
      },
      "execution_count": null,
      "outputs": []
    },
    {
      "cell_type": "code",
      "source": [
        ""
      ],
      "metadata": {
        "id": "JqiS-rUQpwTn"
      },
      "execution_count": null,
      "outputs": []
    },
    {
      "cell_type": "code",
      "source": [
        ""
      ],
      "metadata": {
        "id": "WiHnP6HsreLC"
      },
      "execution_count": null,
      "outputs": []
    }
  ]
}